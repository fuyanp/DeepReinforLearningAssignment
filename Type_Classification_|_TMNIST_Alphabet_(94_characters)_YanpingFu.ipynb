{
  "nbformat": 4,
  "nbformat_minor": 0,
  "metadata": {
    "colab": {
      "provenance": [],
      "machine_shape": "hm"
    },
    "kernelspec": {
      "name": "python3",
      "display_name": "Python 3"
    },
    "language_info": {
      "name": "python"
    },
    "accelerator": "GPU",
    "gpuClass": "standard"
  },
  "cells": [
    {
      "cell_type": "markdown",
      "source": [
        "## **Type Classification | TMNIST**\n",
        "\n",
        "This notebook is aim to perform classification on TMNIST Alphabet (94 characters) dataset with a model with CNN. And we observed that the accuracy of the 11 layer model is about 93.52%.\n",
        "### **Import libraries and dataset**"
      ],
      "metadata": {
        "id": "d60w8GA4XaA6"
      }
    },
    {
      "cell_type": "code",
      "execution_count": 2,
      "metadata": {
        "id": "nWsAnyM8U_vt"
      },
      "outputs": [],
      "source": [
        "import pandas as pd\n",
        "import numpy as np\n",
        "from sklearn.model_selection import train_test_split\n",
        "from tensorflow.keras.models import Sequential\n",
        "from tensorflow.keras.layers import *\n",
        "from tensorflow.keras.optimizers import *\n",
        "from tensorflow.keras.initializers import *\n",
        "import matplotlib.pyplot as plt\n",
        "from sklearn.preprocessing import OneHotEncoder\n",
        "from tensorflow.keras.applications import VGG16\n",
        "from tensorflow.keras.utils import to_categorical\n",
        "import warnings\n",
        "warnings.filterwarnings(\"ignore\")"
      ]
    },
    {
      "cell_type": "code",
      "source": [
        "df=pd.read_csv('/content/drive/MyDrive/94_character_TMNIST.csv')\n",
        "df.head()"
      ],
      "metadata": {
        "colab": {
          "base_uri": "https://localhost:8080/",
          "height": 365
        },
        "id": "Zi2Wo31cVErY",
        "outputId": "fbc0d067-5f27-46c3-c18a-b4e23c49e1b3"
      },
      "execution_count": 4,
      "outputs": [
        {
          "output_type": "execute_result",
          "data": {
            "text/plain": [
              "                  names labels    1    2    3    4    5    6    7    8  ...  \\\n",
              "0         Salsa-Regular      6  0.0  0.0  0.0  0.0  0.0  0.0  0.0  0.0  ...   \n",
              "1  MouseMemoirs-Regular      D  0.0  0.0  0.0  0.0  0.0  0.0  0.0  0.0  ...   \n",
              "2     Creepster-Regular      f  0.0  0.0  0.0  0.0  0.0  0.0  0.0  0.0  ...   \n",
              "3     SeoulNamsan-Light      /  0.0  0.0  0.0  0.0  0.0  0.0  0.0  0.0  ...   \n",
              "4  HachiMaruPop-Regular      F  0.0  0.0  0.0  0.0  0.0  0.0  0.0  0.0  ...   \n",
              "\n",
              "   775  776  777  778  779  780  781  782  783  784  \n",
              "0  0.0  0.0  0.0  0.0  0.0  0.0  0.0  0.0  0.0  0.0  \n",
              "1  0.0  0.0  0.0  0.0  0.0  0.0  0.0  0.0  0.0  0.0  \n",
              "2  0.0  0.0  0.0  0.0  0.0  0.0  0.0  0.0  0.0  0.0  \n",
              "3  0.0  0.0  0.0  0.0  0.0  0.0  0.0  0.0  0.0  0.0  \n",
              "4  0.0  0.0  0.0  0.0  0.0  0.0  0.0  0.0  0.0  0.0  \n",
              "\n",
              "[5 rows x 786 columns]"
            ],
            "text/html": [
              "\n",
              "  <div id=\"df-1951eb1f-e901-4312-86ee-71f79c2b02d5\">\n",
              "    <div class=\"colab-df-container\">\n",
              "      <div>\n",
              "<style scoped>\n",
              "    .dataframe tbody tr th:only-of-type {\n",
              "        vertical-align: middle;\n",
              "    }\n",
              "\n",
              "    .dataframe tbody tr th {\n",
              "        vertical-align: top;\n",
              "    }\n",
              "\n",
              "    .dataframe thead th {\n",
              "        text-align: right;\n",
              "    }\n",
              "</style>\n",
              "<table border=\"1\" class=\"dataframe\">\n",
              "  <thead>\n",
              "    <tr style=\"text-align: right;\">\n",
              "      <th></th>\n",
              "      <th>names</th>\n",
              "      <th>labels</th>\n",
              "      <th>1</th>\n",
              "      <th>2</th>\n",
              "      <th>3</th>\n",
              "      <th>4</th>\n",
              "      <th>5</th>\n",
              "      <th>6</th>\n",
              "      <th>7</th>\n",
              "      <th>8</th>\n",
              "      <th>...</th>\n",
              "      <th>775</th>\n",
              "      <th>776</th>\n",
              "      <th>777</th>\n",
              "      <th>778</th>\n",
              "      <th>779</th>\n",
              "      <th>780</th>\n",
              "      <th>781</th>\n",
              "      <th>782</th>\n",
              "      <th>783</th>\n",
              "      <th>784</th>\n",
              "    </tr>\n",
              "  </thead>\n",
              "  <tbody>\n",
              "    <tr>\n",
              "      <th>0</th>\n",
              "      <td>Salsa-Regular</td>\n",
              "      <td>6</td>\n",
              "      <td>0.0</td>\n",
              "      <td>0.0</td>\n",
              "      <td>0.0</td>\n",
              "      <td>0.0</td>\n",
              "      <td>0.0</td>\n",
              "      <td>0.0</td>\n",
              "      <td>0.0</td>\n",
              "      <td>0.0</td>\n",
              "      <td>...</td>\n",
              "      <td>0.0</td>\n",
              "      <td>0.0</td>\n",
              "      <td>0.0</td>\n",
              "      <td>0.0</td>\n",
              "      <td>0.0</td>\n",
              "      <td>0.0</td>\n",
              "      <td>0.0</td>\n",
              "      <td>0.0</td>\n",
              "      <td>0.0</td>\n",
              "      <td>0.0</td>\n",
              "    </tr>\n",
              "    <tr>\n",
              "      <th>1</th>\n",
              "      <td>MouseMemoirs-Regular</td>\n",
              "      <td>D</td>\n",
              "      <td>0.0</td>\n",
              "      <td>0.0</td>\n",
              "      <td>0.0</td>\n",
              "      <td>0.0</td>\n",
              "      <td>0.0</td>\n",
              "      <td>0.0</td>\n",
              "      <td>0.0</td>\n",
              "      <td>0.0</td>\n",
              "      <td>...</td>\n",
              "      <td>0.0</td>\n",
              "      <td>0.0</td>\n",
              "      <td>0.0</td>\n",
              "      <td>0.0</td>\n",
              "      <td>0.0</td>\n",
              "      <td>0.0</td>\n",
              "      <td>0.0</td>\n",
              "      <td>0.0</td>\n",
              "      <td>0.0</td>\n",
              "      <td>0.0</td>\n",
              "    </tr>\n",
              "    <tr>\n",
              "      <th>2</th>\n",
              "      <td>Creepster-Regular</td>\n",
              "      <td>f</td>\n",
              "      <td>0.0</td>\n",
              "      <td>0.0</td>\n",
              "      <td>0.0</td>\n",
              "      <td>0.0</td>\n",
              "      <td>0.0</td>\n",
              "      <td>0.0</td>\n",
              "      <td>0.0</td>\n",
              "      <td>0.0</td>\n",
              "      <td>...</td>\n",
              "      <td>0.0</td>\n",
              "      <td>0.0</td>\n",
              "      <td>0.0</td>\n",
              "      <td>0.0</td>\n",
              "      <td>0.0</td>\n",
              "      <td>0.0</td>\n",
              "      <td>0.0</td>\n",
              "      <td>0.0</td>\n",
              "      <td>0.0</td>\n",
              "      <td>0.0</td>\n",
              "    </tr>\n",
              "    <tr>\n",
              "      <th>3</th>\n",
              "      <td>SeoulNamsan-Light</td>\n",
              "      <td>/</td>\n",
              "      <td>0.0</td>\n",
              "      <td>0.0</td>\n",
              "      <td>0.0</td>\n",
              "      <td>0.0</td>\n",
              "      <td>0.0</td>\n",
              "      <td>0.0</td>\n",
              "      <td>0.0</td>\n",
              "      <td>0.0</td>\n",
              "      <td>...</td>\n",
              "      <td>0.0</td>\n",
              "      <td>0.0</td>\n",
              "      <td>0.0</td>\n",
              "      <td>0.0</td>\n",
              "      <td>0.0</td>\n",
              "      <td>0.0</td>\n",
              "      <td>0.0</td>\n",
              "      <td>0.0</td>\n",
              "      <td>0.0</td>\n",
              "      <td>0.0</td>\n",
              "    </tr>\n",
              "    <tr>\n",
              "      <th>4</th>\n",
              "      <td>HachiMaruPop-Regular</td>\n",
              "      <td>F</td>\n",
              "      <td>0.0</td>\n",
              "      <td>0.0</td>\n",
              "      <td>0.0</td>\n",
              "      <td>0.0</td>\n",
              "      <td>0.0</td>\n",
              "      <td>0.0</td>\n",
              "      <td>0.0</td>\n",
              "      <td>0.0</td>\n",
              "      <td>...</td>\n",
              "      <td>0.0</td>\n",
              "      <td>0.0</td>\n",
              "      <td>0.0</td>\n",
              "      <td>0.0</td>\n",
              "      <td>0.0</td>\n",
              "      <td>0.0</td>\n",
              "      <td>0.0</td>\n",
              "      <td>0.0</td>\n",
              "      <td>0.0</td>\n",
              "      <td>0.0</td>\n",
              "    </tr>\n",
              "  </tbody>\n",
              "</table>\n",
              "<p>5 rows × 786 columns</p>\n",
              "</div>\n",
              "      <button class=\"colab-df-convert\" onclick=\"convertToInteractive('df-1951eb1f-e901-4312-86ee-71f79c2b02d5')\"\n",
              "              title=\"Convert this dataframe to an interactive table.\"\n",
              "              style=\"display:none;\">\n",
              "        \n",
              "  <svg xmlns=\"http://www.w3.org/2000/svg\" height=\"24px\"viewBox=\"0 0 24 24\"\n",
              "       width=\"24px\">\n",
              "    <path d=\"M0 0h24v24H0V0z\" fill=\"none\"/>\n",
              "    <path d=\"M18.56 5.44l.94 2.06.94-2.06 2.06-.94-2.06-.94-.94-2.06-.94 2.06-2.06.94zm-11 1L8.5 8.5l.94-2.06 2.06-.94-2.06-.94L8.5 2.5l-.94 2.06-2.06.94zm10 10l.94 2.06.94-2.06 2.06-.94-2.06-.94-.94-2.06-.94 2.06-2.06.94z\"/><path d=\"M17.41 7.96l-1.37-1.37c-.4-.4-.92-.59-1.43-.59-.52 0-1.04.2-1.43.59L10.3 9.45l-7.72 7.72c-.78.78-.78 2.05 0 2.83L4 21.41c.39.39.9.59 1.41.59.51 0 1.02-.2 1.41-.59l7.78-7.78 2.81-2.81c.8-.78.8-2.07 0-2.86zM5.41 20L4 18.59l7.72-7.72 1.47 1.35L5.41 20z\"/>\n",
              "  </svg>\n",
              "      </button>\n",
              "      \n",
              "  <style>\n",
              "    .colab-df-container {\n",
              "      display:flex;\n",
              "      flex-wrap:wrap;\n",
              "      gap: 12px;\n",
              "    }\n",
              "\n",
              "    .colab-df-convert {\n",
              "      background-color: #E8F0FE;\n",
              "      border: none;\n",
              "      border-radius: 50%;\n",
              "      cursor: pointer;\n",
              "      display: none;\n",
              "      fill: #1967D2;\n",
              "      height: 32px;\n",
              "      padding: 0 0 0 0;\n",
              "      width: 32px;\n",
              "    }\n",
              "\n",
              "    .colab-df-convert:hover {\n",
              "      background-color: #E2EBFA;\n",
              "      box-shadow: 0px 1px 2px rgba(60, 64, 67, 0.3), 0px 1px 3px 1px rgba(60, 64, 67, 0.15);\n",
              "      fill: #174EA6;\n",
              "    }\n",
              "\n",
              "    [theme=dark] .colab-df-convert {\n",
              "      background-color: #3B4455;\n",
              "      fill: #D2E3FC;\n",
              "    }\n",
              "\n",
              "    [theme=dark] .colab-df-convert:hover {\n",
              "      background-color: #434B5C;\n",
              "      box-shadow: 0px 1px 3px 1px rgba(0, 0, 0, 0.15);\n",
              "      filter: drop-shadow(0px 1px 2px rgba(0, 0, 0, 0.3));\n",
              "      fill: #FFFFFF;\n",
              "    }\n",
              "  </style>\n",
              "\n",
              "      <script>\n",
              "        const buttonEl =\n",
              "          document.querySelector('#df-1951eb1f-e901-4312-86ee-71f79c2b02d5 button.colab-df-convert');\n",
              "        buttonEl.style.display =\n",
              "          google.colab.kernel.accessAllowed ? 'block' : 'none';\n",
              "\n",
              "        async function convertToInteractive(key) {\n",
              "          const element = document.querySelector('#df-1951eb1f-e901-4312-86ee-71f79c2b02d5');\n",
              "          const dataTable =\n",
              "            await google.colab.kernel.invokeFunction('convertToInteractive',\n",
              "                                                     [key], {});\n",
              "          if (!dataTable) return;\n",
              "\n",
              "          const docLinkHtml = 'Like what you see? Visit the ' +\n",
              "            '<a target=\"_blank\" href=https://colab.research.google.com/notebooks/data_table.ipynb>data table notebook</a>'\n",
              "            + ' to learn more about interactive tables.';\n",
              "          element.innerHTML = '';\n",
              "          dataTable['output_type'] = 'display_data';\n",
              "          await google.colab.output.renderOutput(dataTable, element);\n",
              "          const docLink = document.createElement('div');\n",
              "          docLink.innerHTML = docLinkHtml;\n",
              "          element.appendChild(docLink);\n",
              "        }\n",
              "      </script>\n",
              "    </div>\n",
              "  </div>\n",
              "  "
            ]
          },
          "metadata": {},
          "execution_count": 4
        }
      ]
    },
    {
      "cell_type": "code",
      "source": [
        "#size of dataframe\n",
        "print('Total number of rows in datafame',df.shape[0])\n",
        "#getting total number of unique classes present in the dataframe\n",
        "num_classes=df['labels'].nunique()\n",
        "print('Total number of classes are ',num_classes)\n",
        "#printing all the unique classes\n",
        "print('All classes :',df['labels'].unique())\n",
        "#getting the total number of font types present in the data\n",
        "num_font=df['names'].nunique()\n",
        "print('The total number of different type of fonts present are -',num_font)"
      ],
      "metadata": {
        "colab": {
          "base_uri": "https://localhost:8080/"
        },
        "id": "rR66sK5ZVN-7",
        "outputId": "a93eeda9-5d92-4b38-f8e9-1cf66d0204d3"
      },
      "execution_count": 5,
      "outputs": [
        {
          "output_type": "stream",
          "name": "stdout",
          "text": [
            "Total number of rows in datafame 274093\n",
            "Total number of classes are  94\n",
            "All classes : ['6' 'D' 'f' '/' 'F' 'x' 'J' '8' 'H' 'k' '@' '1' '=' 'g' ')' '2' 'd' '^'\n",
            " '3' 't' '#' '.' '4' 'o' '\"' 'y' 'A' 'u' 'G' '-' 'm' 'W' '&' 'c' '9' 'N'\n",
            " ']' 'P' 'X' '|' '}' 'h' '7' 'j' '5' '>' '?' 'b' '*' 'w' 'l' '0' '$' 'I'\n",
            " 'Y' '%' ':' 'T' 'K' 'E' '<' 'V' '{' 'M' 'S' 'a' 'i' 'r' \"'\" 'p' ';' '['\n",
            " '+' 'e' 'U' '(' 's' '~' ',' 'C' 'q' '_' 'n' 'B' 'z' 'v' 'O' 'R' '`' 'Z'\n",
            " 'Q' 'L' '!' '\\\\']\n",
            "The total number of different type of fonts present are - 2990\n"
          ]
        }
      ]
    },
    {
      "cell_type": "markdown",
      "source": [
        "#### **Split data into train and test sets and reshaping for CNN**"
      ],
      "metadata": {
        "id": "W0YVn-TXYSwM"
      }
    },
    {
      "cell_type": "code",
      "source": [
        "#get independent variable and response variable\n",
        "X = df.drop(columns=['names','labels'])\n",
        "y = df[['labels']]"
      ],
      "metadata": {
        "id": "PNBqGMiJVlKQ"
      },
      "execution_count": 7,
      "outputs": []
    },
    {
      "cell_type": "code",
      "source": [
        "#preping the data to create dictionary\n",
        "labels = y['labels'].unique()\n",
        "values = [num for num in range(len(df['labels'].unique()))]\n",
        "label_dict= dict(zip(labels,values)) #Creating Dictionary \n",
        "label_dict_inv = dict(zip(values,labels))\n",
        "y['labels'].replace(label_dict, inplace=True) #Maping Values avaliable for later traning\n",
        "\n",
        "#splitiing the data into test and train\n",
        "X_train, X_test, y_train, y_test = train_test_split( X, y, test_size=0.3, random_state=42,stratify=y)\n",
        "#the pixel values are from 0-255, for neural network models we are squishing them between 0-1 \n",
        "X_train= (X_train.astype('float32'))/255.0\n",
        "X_test = (X_test.astype('float32'))/255.0\n",
        "X_train=X_train.values.reshape(X_train.shape[0],28,28,1)\n",
        "X_test=X_test.values.reshape(X_test.shape[0],28,28,1)\n",
        "#Target into Categorical Values\n",
        "NCl = y_train.nunique()[0]\n",
        "y_train = to_categorical(y_train, NCl, dtype='int' )\n",
        "y_test = to_categorical(y_test, NCl, dtype='int' )"
      ],
      "metadata": {
        "id": "-xVn6vR5dAkR"
      },
      "execution_count": 8,
      "outputs": []
    },
    {
      "cell_type": "code",
      "source": [
        "# display 10 example img of dataset\n",
        "n = 10\n",
        "plt.figure(figsize=(40, 20))\n",
        "for i in range(n):\n",
        "  ax = plt.subplot(2, 5, i + 1)\n",
        "  plt.imshow(np.reshape(X_test[i], (28, 28)), cmap = 'Greys')\n",
        "  plt.title(\"OG\")\n",
        "  plt.gray()\n",
        "  ax.get_xaxis().set_visible(False)\n",
        "  ax.get_yaxis().set_visible(False)\n",
        "plt.show()"
      ],
      "metadata": {
        "colab": {
          "base_uri": "https://localhost:8080/",
          "height": 388
        },
        "id": "paoYTdXXWGTV",
        "outputId": "67bf4fa9-1c7a-4292-d016-8793bafa5b34"
      },
      "execution_count": 9,
      "outputs": [
        {
          "output_type": "display_data",
          "data": {
            "text/plain": [
              "<Figure size 2880x1440 with 10 Axes>"
            ],
            "image/png": "[encoded data removed]"
          },
          "metadata": {
            "needs_background": "light"
          }
        }
      ]
    },
    {
      "cell_type": "markdown",
      "source": [
        "### **Build Model with CNN and training**\n",
        "\n",
        "First pass input through conv2d layers with 128, 64, 32 nodes and maxpooling layers with 2x2 size of filter separatly. conv2d layers early working eith 7x7 kernels and quickly shrink to 3x3. These conv2d layers also along with relu activation fucntion.  Here we try to use maxpooling to reduce computational load and overfitting. "
      ],
      "metadata": {
        "id": "L8yHqnwNYPEw"
      }
    },
    {
      "cell_type": "code",
      "source": [
        "model = Sequential()\n",
        "model.add(Conv2D(256, (7, 7), activation='relu', input_shape=(28, 28,1)))\n",
        "model.add(MaxPooling2D((2, 2), strides=2))\n",
        "model.add(Conv2D(128, (3, 3), activation='relu'))\n",
        "model.add(MaxPooling2D((2, 2), strides=2))\n",
        "model.add(Conv2D(64, (3, 3), activation='relu'))\n",
        "model.add(MaxPooling2D((2, 2), strides=2))\n",
        "model.add(Flatten())\n",
        "initializer = GlorotUniform()\n",
        "model.add(Dense(256,activation='relu',kernel_initializer=initializer))\n",
        "model.add(Dense(64,activation='relu',kernel_initializer=initializer))\n",
        "model.add(Dense(32, activation='relu',kernel_initializer=initializer))\n",
        "#number of last dense layer's unit is set as number of classes and using softmax activation for this multiclass model\n",
        "model.add(Dense(num_classes, activation='softmax'))\n",
        "opt = Adam()\n",
        "model.compile(optimizer=opt, loss='categorical_crossentropy', metrics=['accuracy'])\n",
        "model.summary()\n"
      ],
      "metadata": {
        "colab": {
          "base_uri": "https://localhost:8080/"
        },
        "id": "GdWv_PENWQC0",
        "outputId": "1d08fe7f-6aed-4f3d-858d-daa98eca6abf"
      },
      "execution_count": 17,
      "outputs": [
        {
          "output_type": "stream",
          "name": "stdout",
          "text": [
            "Model: \"sequential_4\"\n",
            "_________________________________________________________________\n",
            " Layer (type)                Output Shape              Param #   \n",
            "=================================================================\n",
            " conv2d_12 (Conv2D)          (None, 22, 22, 256)       12800     \n",
            "                                                                 \n",
            " max_pooling2d_12 (MaxPoolin  (None, 11, 11, 256)      0         \n",
            " g2D)                                                            \n",
            "                                                                 \n",
            " conv2d_13 (Conv2D)          (None, 9, 9, 128)         295040    \n",
            "                                                                 \n",
            " max_pooling2d_13 (MaxPoolin  (None, 4, 4, 128)        0         \n",
            " g2D)                                                            \n",
            "                                                                 \n",
            " conv2d_14 (Conv2D)          (None, 2, 2, 64)          73792     \n",
            "                                                                 \n",
            " max_pooling2d_14 (MaxPoolin  (None, 1, 1, 64)         0         \n",
            " g2D)                                                            \n",
            "                                                                 \n",
            " flatten_4 (Flatten)         (None, 64)                0         \n",
            "                                                                 \n",
            " dense_16 (Dense)            (None, 256)               16640     \n",
            "                                                                 \n",
            " dense_17 (Dense)            (None, 64)                16448     \n",
            "                                                                 \n",
            " dense_18 (Dense)            (None, 32)                2080      \n",
            "                                                                 \n",
            " dense_19 (Dense)            (None, 94)                3102      \n",
            "                                                                 \n",
            "=================================================================\n",
            "Total params: 419,902\n",
            "Trainable params: 419,902\n",
            "Non-trainable params: 0\n",
            "_________________________________________________________________\n"
          ]
        }
      ]
    },
    {
      "cell_type": "markdown",
      "source": [
        "We pass (28,28,1) imput matrix to 3 conv2d and 3 maxpooling layer and obtain feature information. after flattern them, we pass the data through fully connected layer with unit number be multiclass number. Also applied the GlorotUniform network initializer and tunning epochs numbers below."
      ],
      "metadata": {
        "id": "E1Q86YnAaDF_"
      }
    },
    {
      "cell_type": "code",
      "source": [
        "#fitting the model\n",
        "model_history=model.fit(X_train, y_train, epochs=40, validation_data=(X_test, y_test), verbose=2,batch_size=128)"
      ],
      "metadata": {
        "colab": {
          "base_uri": "https://localhost:8080/"
        },
        "id": "LL3BfbdvaJuC",
        "outputId": "88c7c307-b783-4414-e6d9-0614b4ea0768"
      },
      "execution_count": 18,
      "outputs": [
        {
          "output_type": "stream",
          "name": "stdout",
          "text": [
            "Epoch 1/40\n",
            "1499/1499 - 20s - loss: 0.9542 - accuracy: 0.7414 - val_loss: 0.4846 - val_accuracy: 0.8508 - 20s/epoch - 14ms/step\n",
            "Epoch 2/40\n",
            "1499/1499 - 19s - loss: 0.4239 - accuracy: 0.8643 - val_loss: 0.3834 - val_accuracy: 0.8751 - 19s/epoch - 13ms/step\n",
            "Epoch 3/40\n",
            "1499/1499 - 19s - loss: 0.3386 - accuracy: 0.8898 - val_loss: 0.3065 - val_accuracy: 0.9046 - 19s/epoch - 13ms/step\n",
            "Epoch 4/40\n",
            "1499/1499 - 19s - loss: 0.2824 - accuracy: 0.9102 - val_loss: 0.2676 - val_accuracy: 0.9195 - 19s/epoch - 13ms/step\n",
            "Epoch 5/40\n",
            "1499/1499 - 19s - loss: 0.2488 - accuracy: 0.9202 - val_loss: 0.2751 - val_accuracy: 0.9166 - 19s/epoch - 13ms/step\n",
            "Epoch 6/40\n",
            "1499/1499 - 19s - loss: 0.2261 - accuracy: 0.9269 - val_loss: 0.2452 - val_accuracy: 0.9256 - 19s/epoch - 13ms/step\n",
            "Epoch 7/40\n",
            "1499/1499 - 19s - loss: 0.2102 - accuracy: 0.9313 - val_loss: 0.2364 - val_accuracy: 0.9264 - 19s/epoch - 13ms/step\n",
            "Epoch 8/40\n",
            "1499/1499 - 19s - loss: 0.1960 - accuracy: 0.9349 - val_loss: 0.2372 - val_accuracy: 0.9255 - 19s/epoch - 13ms/step\n",
            "Epoch 9/40\n",
            "1499/1499 - 19s - loss: 0.1850 - accuracy: 0.9375 - val_loss: 0.2357 - val_accuracy: 0.9291 - 19s/epoch - 13ms/step\n",
            "Epoch 10/40\n",
            "1499/1499 - 19s - loss: 0.1742 - accuracy: 0.9410 - val_loss: 0.2327 - val_accuracy: 0.9290 - 19s/epoch - 13ms/step\n",
            "Epoch 11/40\n",
            "1499/1499 - 19s - loss: 0.1665 - accuracy: 0.9433 - val_loss: 0.2302 - val_accuracy: 0.9295 - 19s/epoch - 13ms/step\n",
            "Epoch 12/40\n",
            "1499/1499 - 19s - loss: 0.1602 - accuracy: 0.9452 - val_loss: 0.2248 - val_accuracy: 0.9326 - 19s/epoch - 13ms/step\n",
            "Epoch 13/40\n",
            "1499/1499 - 19s - loss: 0.1536 - accuracy: 0.9464 - val_loss: 0.2265 - val_accuracy: 0.9348 - 19s/epoch - 13ms/step\n",
            "Epoch 14/40\n",
            "1499/1499 - 19s - loss: 0.1492 - accuracy: 0.9482 - val_loss: 0.2329 - val_accuracy: 0.9323 - 19s/epoch - 13ms/step\n",
            "Epoch 15/40\n",
            "1499/1499 - 19s - loss: 0.1432 - accuracy: 0.9496 - val_loss: 0.2255 - val_accuracy: 0.9348 - 19s/epoch - 13ms/step\n",
            "Epoch 16/40\n",
            "1499/1499 - 19s - loss: 0.1387 - accuracy: 0.9509 - val_loss: 0.2345 - val_accuracy: 0.9330 - 19s/epoch - 13ms/step\n",
            "Epoch 17/40\n",
            "1499/1499 - 19s - loss: 0.1344 - accuracy: 0.9522 - val_loss: 0.2520 - val_accuracy: 0.9303 - 19s/epoch - 13ms/step\n",
            "Epoch 18/40\n",
            "1499/1499 - 19s - loss: 0.1297 - accuracy: 0.9539 - val_loss: 0.2306 - val_accuracy: 0.9353 - 19s/epoch - 13ms/step\n",
            "Epoch 19/40\n",
            "1499/1499 - 19s - loss: 0.1266 - accuracy: 0.9546 - val_loss: 0.2391 - val_accuracy: 0.9336 - 19s/epoch - 13ms/step\n",
            "Epoch 20/40\n",
            "1499/1499 - 19s - loss: 0.1241 - accuracy: 0.9554 - val_loss: 0.2425 - val_accuracy: 0.9346 - 19s/epoch - 13ms/step\n",
            "Epoch 21/40\n",
            "1499/1499 - 19s - loss: 0.1223 - accuracy: 0.9559 - val_loss: 0.2566 - val_accuracy: 0.9313 - 19s/epoch - 13ms/step\n",
            "Epoch 22/40\n",
            "1499/1499 - 19s - loss: 0.1188 - accuracy: 0.9572 - val_loss: 0.2470 - val_accuracy: 0.9345 - 19s/epoch - 13ms/step\n",
            "Epoch 23/40\n",
            "1499/1499 - 19s - loss: 0.1159 - accuracy: 0.9580 - val_loss: 0.2529 - val_accuracy: 0.9357 - 19s/epoch - 13ms/step\n",
            "Epoch 24/40\n",
            "1499/1499 - 19s - loss: 0.1141 - accuracy: 0.9589 - val_loss: 0.2452 - val_accuracy: 0.9362 - 19s/epoch - 13ms/step\n",
            "Epoch 25/40\n",
            "1499/1499 - 19s - loss: 0.1102 - accuracy: 0.9602 - val_loss: 0.2615 - val_accuracy: 0.9334 - 19s/epoch - 13ms/step\n",
            "Epoch 26/40\n",
            "1499/1499 - 19s - loss: 0.1097 - accuracy: 0.9601 - val_loss: 0.2556 - val_accuracy: 0.9354 - 19s/epoch - 13ms/step\n",
            "Epoch 27/40\n",
            "1499/1499 - 19s - loss: 0.1075 - accuracy: 0.9608 - val_loss: 0.2543 - val_accuracy: 0.9361 - 19s/epoch - 13ms/step\n",
            "Epoch 28/40\n",
            "1499/1499 - 19s - loss: 0.1069 - accuracy: 0.9609 - val_loss: 0.2602 - val_accuracy: 0.9354 - 19s/epoch - 13ms/step\n",
            "Epoch 29/40\n",
            "1499/1499 - 19s - loss: 0.1040 - accuracy: 0.9621 - val_loss: 0.2543 - val_accuracy: 0.9353 - 19s/epoch - 13ms/step\n",
            "Epoch 30/40\n",
            "1499/1499 - 19s - loss: 0.1028 - accuracy: 0.9626 - val_loss: 0.2791 - val_accuracy: 0.9363 - 19s/epoch - 13ms/step\n",
            "Epoch 31/40\n",
            "1499/1499 - 19s - loss: 0.1025 - accuracy: 0.9624 - val_loss: 0.2751 - val_accuracy: 0.9335 - 19s/epoch - 13ms/step\n",
            "Epoch 32/40\n",
            "1499/1499 - 19s - loss: 0.0994 - accuracy: 0.9638 - val_loss: 0.2670 - val_accuracy: 0.9345 - 19s/epoch - 13ms/step\n",
            "Epoch 33/40\n",
            "1499/1499 - 19s - loss: 0.0963 - accuracy: 0.9647 - val_loss: 0.2752 - val_accuracy: 0.9350 - 19s/epoch - 13ms/step\n",
            "Epoch 34/40\n",
            "1499/1499 - 19s - loss: 0.0974 - accuracy: 0.9645 - val_loss: 0.2838 - val_accuracy: 0.9353 - 19s/epoch - 13ms/step\n",
            "Epoch 35/40\n",
            "1499/1499 - 19s - loss: 0.0971 - accuracy: 0.9648 - val_loss: 0.2692 - val_accuracy: 0.9372 - 19s/epoch - 13ms/step\n",
            "Epoch 36/40\n",
            "1499/1499 - 19s - loss: 0.0908 - accuracy: 0.9662 - val_loss: 0.2830 - val_accuracy: 0.9359 - 19s/epoch - 13ms/step\n",
            "Epoch 37/40\n",
            "1499/1499 - 19s - loss: 0.0934 - accuracy: 0.9655 - val_loss: 0.2830 - val_accuracy: 0.9367 - 19s/epoch - 13ms/step\n",
            "Epoch 38/40\n",
            "1499/1499 - 19s - loss: 0.0923 - accuracy: 0.9658 - val_loss: 0.2892 - val_accuracy: 0.9368 - 19s/epoch - 13ms/step\n",
            "Epoch 39/40\n",
            "1499/1499 - 19s - loss: 0.0902 - accuracy: 0.9668 - val_loss: 0.2871 - val_accuracy: 0.9355 - 19s/epoch - 13ms/step\n",
            "Epoch 40/40\n",
            "1499/1499 - 19s - loss: 0.0892 - accuracy: 0.9669 - val_loss: 0.3009 - val_accuracy: 0.9352 - 19s/epoch - 13ms/step\n"
          ]
        }
      ]
    },
    {
      "cell_type": "markdown",
      "source": [
        "### **Evaluation**"
      ],
      "metadata": {
        "id": "06kJ9O5cYwIO"
      }
    },
    {
      "cell_type": "code",
      "source": [
        "plt.figure(figsize=(14, 6))\n",
        "plt.subplot(1,2,1)\n",
        "epochs=np.arange(40)\n",
        "plt.title('Accuracy vs Epochs')\n",
        "plt.plot(epochs,model_history.history['accuracy'],label='train', color='#851D2D')\n",
        "plt.ylabel('Accuracy')\n",
        "plt.plot(epochs,model_history.history['val_accuracy'],label='test', color='#306844')\n",
        "plt.legend()\n",
        "plt.subplot(1,2,2)\n",
        "plt.title('Loss vs Epochs')\n",
        "plt.plot(epochs,model_history.history['loss'],label='train', color='#851D2D')\n",
        "plt.ylabel('Loss')\n",
        "plt.plot(epochs,model_history.history['val_loss'],label='test', color='#306844')\n",
        "plt.legend()\n",
        "plt.show()"
      ],
      "metadata": {
        "colab": {
          "base_uri": "https://localhost:8080/",
          "height": 384
        },
        "id": "BiJhA4exaS8l",
        "outputId": "903dc3f8-e506-4248-d76c-5cfc8cdd6486"
      },
      "execution_count": 19,
      "outputs": [
        {
          "output_type": "display_data",
          "data": {
            "text/plain": [
              "<Figure size 1008x432 with 2 Axes>"
            ],
            "image/png": "[encoded data removed]"
          },
          "metadata": {
            "needs_background": "light"
          }
        }
      ]
    },
    {
      "cell_type": "code",
      "source": [
        "score = model.evaluate(X_test,y_test, batch_size = 128,verbose = 0)\n",
        "print(f\"Accuracy: {round(score[1],8)*100}%\")"
      ],
      "metadata": {
        "colab": {
          "base_uri": "https://localhost:8080/"
        },
        "id": "DGuDFHtmaL52",
        "outputId": "57036a91-fb62-4b24-eb86-fc81d518c2d9"
      },
      "execution_count": 20,
      "outputs": [
        {
          "output_type": "stream",
          "name": "stdout",
          "text": [
            "Accuracy: 93.521672%\n"
          ]
        }
      ]
    },
    {
      "cell_type": "markdown",
      "source": [
        "### **Reference and Citation**\n",
        "[1] https://www.kaggle.com/code/nikbearbrown/tmnist-cnn-starter<br>\n",
        "[2] https://www.youtube.com/watch?v=AjtX1N_VT9E&t=803s<br>\n",
        "Code are cited from [1] with modification according to [2].\n",
        "\n",
        "### **License**\n",
        "\n",
        "MIT License\n",
        "\n",
        "Copyright (c) 2022 Yanping Fu\n",
        "\n",
        "Permission is hereby granted, free of charge, to any person obtaining a copy\n",
        "of this software and associated documentation files (the \"Software\"), to deal\n",
        "in the Software without restriction, including without limitation the rights\n",
        "to use, copy, modify, merge, publish, distribute, sublicense, and/or sell\n",
        "copies of the Software, and to permit persons to whom the Software is\n",
        "furnished to do so, subject to the following conditions:\n",
        "\n",
        "The above copyright notice and this permission notice shall be included in all\n",
        "copies or substantial portions of the Software.\n",
        "\n",
        "THE SOFTWARE IS PROVIDED \"AS IS\", WITHOUT WARRANTY OF ANY KIND, EXPRESS OR\n",
        "IMPLIED, INCLUDING BUT NOT LIMITED TO THE WARRANTIES OF MERCHANTABILITY,\n",
        "FITNESS FOR A PARTICULAR PURPOSE AND NONINFRINGEMENT. IN NO EVENT SHALL THE\n",
        "AUTHORS OR COPYRIGHT HOLDERS BE LIABLE FOR ANY CLAIM, DAMAGES OR OTHER\n",
        "LIABILITY, WHETHER IN AN ACTION OF CONTRACT, TORT OR OTHERWISE, ARISING FROM,\n",
        "OUT OF OR IN CONNECTION WITH THE SOFTWARE OR THE USE OR OTHER DEALINGS IN THE\n",
        "SOFTWARE."
      ],
      "metadata": {
        "id": "0YTZRYOYahUv"
      }
    }
  ]
}